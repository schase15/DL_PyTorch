{
 "cells": [
  {
   "cell_type": "markdown",
   "metadata": {},
   "source": [
    "# Classifying Fashion-MNIST\n",
    "\n",
    "Now it's your turn to build and train a neural network. You'll be using the [Fashion-MNIST dataset](https://github.com/zalandoresearch/fashion-mnist), a drop-in replacement for the MNIST dataset. MNIST is actually quite trivial with neural networks where you can easily achieve better than 97% accuracy. Fashion-MNIST is a set of 28x28 greyscale images of clothes. It's more complex than MNIST, so it's a better representation of the actual performance of your network, and a better representation of datasets you'll use in the real world.\n",
    "\n",
    "<img src='assets/fashion-mnist-sprite.png' width=500px>\n",
    "\n",
    "In this notebook, you'll build your own neural network. For the most part, you could just copy and paste the code from Part 3, but you wouldn't be learning. It's important for you to write the code yourself and get it to work. Feel free to consult the previous notebook though as you work through this.\n",
    "\n",
    "First off, let's load the dataset through torchvision."
   ]
  },
  {
   "cell_type": "code",
   "execution_count": 1,
   "metadata": {},
   "outputs": [
    {
     "output_type": "stream",
     "name": "stderr",
     "text": [
      "0it [00:00, ?it/s]Downloading http://fashion-mnist.s3-website.eu-central-1.amazonaws.com/train-images-idx3-ubyte.gz to F_MNIST_data/FashionMNIST/raw/train-images-idx3-ubyte.gz\n",
      " 99%|█████████▉| 26181632/26421880 [00:09<00:00, 2915233.37it/s]Extracting F_MNIST_data/FashionMNIST/raw/train-images-idx3-ubyte.gz to F_MNIST_data/FashionMNIST/raw\n",
      "\n",
      "0it [00:00, ?it/s]\u001b[ADownloading http://fashion-mnist.s3-website.eu-central-1.amazonaws.com/train-labels-idx1-ubyte.gz to F_MNIST_data/FashionMNIST/raw/train-labels-idx1-ubyte.gz\n",
      "\n",
      "  0%|          | 0/29515 [00:00<?, ?it/s]\u001b[A\n",
      "32768it [00:00, 75107.40it/s]                            \n",
      "\n",
      "0it [00:00, ?it/s]\u001b[AExtracting F_MNIST_data/FashionMNIST/raw/train-labels-idx1-ubyte.gz to F_MNIST_data/FashionMNIST/raw\n",
      "Downloading http://fashion-mnist.s3-website.eu-central-1.amazonaws.com/t10k-images-idx3-ubyte.gz to F_MNIST_data/FashionMNIST/raw/t10k-images-idx3-ubyte.gz\n",
      "\n",
      "  0%|          | 0/4422102 [00:00<?, ?it/s]\u001b[A\n",
      "  0%|          | 16384/4422102 [00:00<00:37, 116177.14it/s]\u001b[A\n",
      "  1%|          | 49152/4422102 [00:00<00:32, 135527.49it/s]\u001b[A\n",
      "  2%|▏         | 106496/4422102 [00:00<00:25, 169804.39it/s]\u001b[A\n",
      "  5%|▌         | 221184/4422102 [00:00<00:18, 223096.63it/s]\u001b[A\n",
      " 10%|█         | 450560/4422102 [00:01<00:13, 301351.82it/s]\u001b[A\n",
      " 16%|█▌        | 704512/4422102 [00:01<00:09, 402961.47it/s]\u001b[A\n",
      " 23%|██▎       | 1007616/4422102 [00:01<00:06, 543871.94it/s]\u001b[A\n",
      " 30%|██▉       | 1310720/4422102 [00:01<00:04, 719707.61it/s]\u001b[A\n",
      " 36%|███▋      | 1605632/4422102 [00:01<00:03, 919133.98it/s]\u001b[A\n",
      " 44%|████▍     | 1949696/4422102 [00:01<00:02, 1175703.20it/s]\u001b[A\n",
      " 51%|█████     | 2244608/4422102 [00:01<00:01, 1433925.36it/s]\u001b[A\n",
      " 58%|█████▊    | 2547712/4422102 [00:01<00:01, 1693105.94it/s]\u001b[A\n",
      " 64%|██████▍   | 2850816/4422102 [00:01<00:00, 1944915.89it/s]\u001b[A\n",
      " 71%|███████▏  | 3153920/4422102 [00:01<00:00, 2161115.93it/s]\u001b[A\n",
      " 78%|███████▊  | 3457024/4422102 [00:02<00:00, 2350697.59it/s]\u001b[A\n",
      " 85%|████████▌ | 3760128/4422102 [00:02<00:00, 2506688.76it/s]\u001b[A\n",
      " 92%|█████████▏| 4055040/4422102 [00:02<00:00, 2470651.83it/s]\u001b[A\n",
      "4423680it [00:02, 1828352.18it/s]\n",
      "\n",
      "0it [00:00, ?it/s]\u001b[AExtracting F_MNIST_data/FashionMNIST/raw/t10k-images-idx3-ubyte.gz to F_MNIST_data/FashionMNIST/raw\n",
      "Downloading http://fashion-mnist.s3-website.eu-central-1.amazonaws.com/t10k-labels-idx1-ubyte.gz to F_MNIST_data/FashionMNIST/raw/t10k-labels-idx1-ubyte.gz\n",
      "\n",
      "8192it [00:00, 24797.70it/s]            \n",
      "Extracting F_MNIST_data/FashionMNIST/raw/t10k-labels-idx1-ubyte.gz to F_MNIST_data/FashionMNIST/raw\n",
      "Processing...\n",
      "Done!\n"
     ]
    }
   ],
   "source": [
    "# Imports\n",
    "import torch\n",
    "from torchvision import datasets, transforms\n",
    "import helper\n",
    "\n",
    "# Define a transform to normalize the data\n",
    "transform = transforms.Compose([transforms.ToTensor(),\n",
    "                                transforms.Normalize((0.5), (0.5))])\n",
    "# Download and load the training data\n",
    "trainset = datasets.FashionMNIST('F_MNIST_data/', download=True, train=True, transform=transform)\n",
    "trainloader = torch.utils.data.DataLoader(trainset, batch_size=64, shuffle=True)\n",
    "\n",
    "# Download and load the test data\n",
    "testset = datasets.FashionMNIST('F_MNIST_data/', download=True, train=False, transform=transform)\n",
    "testloader = torch.utils.data.DataLoader(testset, batch_size=64, shuffle=True)"
   ]
  },
  {
   "cell_type": "markdown",
   "metadata": {},
   "source": [
    "Here we can see one of the images."
   ]
  },
  {
   "cell_type": "code",
   "execution_count": 2,
   "metadata": {},
   "outputs": [
    {
     "output_type": "display_data",
     "data": {
      "text/plain": "<Figure size 432x288 with 1 Axes>",
      "image/svg+xml": "<?xml version=\"1.0\" encoding=\"utf-8\" standalone=\"no\"?>\n<!DOCTYPE svg PUBLIC \"-//W3C//DTD SVG 1.1//EN\"\n  \"http://www.w3.org/Graphics/SVG/1.1/DTD/svg11.dtd\">\n<!-- Created with matplotlib (https://matplotlib.org/) -->\n<svg height=\"231.84pt\" version=\"1.1\" viewBox=\"0 0 231.84 231.84\" width=\"231.84pt\" xmlns=\"http://www.w3.org/2000/svg\" xmlns:xlink=\"http://www.w3.org/1999/xlink\">\n <defs>\n  <style type=\"text/css\">\n*{stroke-linecap:butt;stroke-linejoin:round;}\n  </style>\n </defs>\n <g id=\"figure_1\">\n  <g id=\"patch_1\">\n   <path d=\"M 0 231.84 \nL 231.84 231.84 \nL 231.84 0 \nL 0 0 \nz\n\" style=\"fill:none;\"/>\n  </g>\n  <g id=\"axes_1\">\n   <g id=\"patch_2\">\n    <path d=\"M 7.2 224.64 \nL 224.64 224.64 \nL 224.64 7.2 \nL 7.2 7.2 \nz\n\" style=\"fill:#ffffff;\"/>\n   </g>\n   <g clip-path=\"url(#p673a1854d0)\">\n    <image height=\"218\" id=\"image1a27caec49\" transform=\"scale(1 -1)translate(0 -218)\" width=\"218\" x=\"7.2\" xlink:href=\"data:image/png;base64,\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\" y=\"-6.64\"/>\n   </g>\n   <g id=\"matplotlib.axis_1\">\n    <g id=\"xtick_1\">\n     <g id=\"line2d_1\"/>\n    </g>\n    <g id=\"xtick_2\">\n     <g id=\"line2d_2\"/>\n    </g>\n    <g id=\"xtick_3\">\n     <g id=\"line2d_3\"/>\n    </g>\n    <g id=\"xtick_4\">\n     <g id=\"line2d_4\"/>\n    </g>\n    <g id=\"xtick_5\">\n     <g id=\"line2d_5\"/>\n    </g>\n    <g id=\"xtick_6\">\n     <g id=\"line2d_6\"/>\n    </g>\n   </g>\n   <g id=\"matplotlib.axis_2\">\n    <g id=\"ytick_1\">\n     <g id=\"line2d_7\"/>\n    </g>\n    <g id=\"ytick_2\">\n     <g id=\"line2d_8\"/>\n    </g>\n    <g id=\"ytick_3\">\n     <g id=\"line2d_9\"/>\n    </g>\n    <g id=\"ytick_4\">\n     <g id=\"line2d_10\"/>\n    </g>\n    <g id=\"ytick_5\">\n     <g id=\"line2d_11\"/>\n    </g>\n    <g id=\"ytick_6\">\n     <g id=\"line2d_12\"/>\n    </g>\n   </g>\n  </g>\n </g>\n <defs>\n  <clipPath id=\"p673a1854d0\">\n   <rect height=\"217.44\" width=\"217.44\" x=\"7.2\" y=\"7.2\"/>\n  </clipPath>\n </defs>\n</svg>\n",
      "image/png": "[encoded data removed]"
     },
     "metadata": {
      "needs_background": "light"
     }
    }
   ],
   "source": [
    "image, label = next(iter(trainloader))\n",
    "helper.imshow(image[0,:]);"
   ]
  },
  {
   "cell_type": "markdown",
   "metadata": {},
   "source": [
    "With the data loaded, it's time to import the necessary packages."
   ]
  },
  {
   "cell_type": "code",
   "execution_count": 4,
   "metadata": {},
   "outputs": [],
   "source": [
    "%matplotlib inline\n",
    "%config InlineBackend.figure_format = 'retina'\n",
    "\n",
    "import matplotlib.pyplot as plt\n",
    "import numpy as np\n",
    "import time\n",
    "\n",
    "import torch\n",
    "from torch import nn\n",
    "from torch import optim\n",
    "import torch.nn.functional as F\n",
    "from torchvision import datasets, transforms\n",
    "\n",
    "import helper\n",
    "\n",
    "from collections import OrderedDict"
   ]
  },
  {
   "cell_type": "markdown",
   "metadata": {},
   "source": [
    "## Building the network\n",
    "\n",
    "Here you should define your network. As with MNIST, each image is 28x28 which is a total of 784 pixels, and there are 10 classes. You should include at least one hidden layer. We suggest you use ReLU activations for the layers and to return the logits from the forward pass. It's up to you how many layers you add and the size of those layers."
   ]
  },
  {
   "cell_type": "code",
   "execution_count": 6,
   "metadata": {},
   "outputs": [
    {
     "output_type": "execute_result",
     "data": {
      "text/plain": [
       "Sequential(\n",
       "  (input): Linear(in_features=784, out_features=400, bias=True)\n",
       "  (relu1): ReLU()\n",
       "  (fc1): Linear(in_features=400, out_features=200, bias=True)\n",
       "  (relu2): ReLU()\n",
       "  (fc2): Linear(in_features=200, out_features=100, bias=True)\n",
       "  (relu3): ReLU()\n",
       "  (logits): Linear(in_features=100, out_features=10, bias=True)\n",
       ")"
      ]
     },
     "metadata": {},
     "execution_count": 6
    }
   ],
   "source": [
    "# Define your network architecture here\n",
    "\n",
    "# Define layer sizes\n",
    "input_size = 784\n",
    "layer_size = [400, 200, 100]\n",
    "output_size = 10\n",
    "\n",
    "# Define model architecture\n",
    "architecture = OrderedDict([\n",
    "    ('input', nn.Linear(input_size, layer_size[0])),\n",
    "    ('relu1', nn.ReLU()),\n",
    "    ('fc1', nn.Linear(layer_size[0], layer_size[1])),\n",
    "    ('relu2', nn.ReLU()),\n",
    "    ('fc2', nn.Linear(layer_size[1], layer_size[2])),\n",
    "    ('relu3', nn.ReLU()),\n",
    "    ('logits', nn.Linear(layer_size[2], output_size))\n",
    "])\n",
    "\n",
    "# Instantiate model\n",
    "model = nn.Sequential(architecture)\n",
    "\n",
    "# View\n",
    "model"
   ]
  },
  {
   "cell_type": "markdown",
   "metadata": {},
   "source": [
    "# Train the network\n",
    "\n",
    "Now you should create your network and train it. First you'll want to define [the criterion](http://pytorch.org/docs/master/nn.html#loss-functions) ( something like `nn.CrossEntropyLoss`) and [the optimizer](http://pytorch.org/docs/master/optim.html) (typically `optim.SGD` or `optim.Adam`).\n",
    "\n",
    "Then write the training code. Remember the training pass is a fairly straightforward process:\n",
    "\n",
    "* Make a forward pass through the network to get the logits \n",
    "* Use the logits to calculate the loss\n",
    "* Perform a backward pass through the network with `loss.backward()` to calculate the gradients\n",
    "* Take a step with the optimizer to update the weights\n",
    "\n",
    "By adjusting the hyperparameters (hidden units, learning rate, etc), you should be able to get the training loss below 0.4."
   ]
  },
  {
   "cell_type": "code",
   "execution_count": 7,
   "metadata": {},
   "outputs": [],
   "source": [
    "# Create the network, define the criterion and optimizer\n",
    "criterion = nn.CrossEntropyLoss()\n",
    "optimizer = optim.SGD(model.parameters(), lr=0.01)"
   ]
  },
  {
   "cell_type": "code",
   "execution_count": 8,
   "metadata": {},
   "outputs": [
    {
     "output_type": "stream",
     "name": "stdout",
     "text": [
      "Epoch: 1/3...  Loss: 2.2915\n",
      "Epoch: 1/3...  Loss: 2.2525\n",
      "Epoch: 1/3...  Loss: 2.1944\n",
      "Epoch: 1/3...  Loss: 2.1211\n",
      "Epoch: 1/3...  Loss: 1.9870\n",
      "Epoch: 1/3...  Loss: 1.7903\n",
      "Epoch: 1/3...  Loss: 1.5856\n",
      "Epoch: 1/3...  Loss: 1.3845\n",
      "Epoch: 1/3...  Loss: 1.2456\n",
      "Epoch: 1/3...  Loss: 1.1213\n",
      "Epoch: 1/3...  Loss: 1.0557\n",
      "Epoch: 1/3...  Loss: 0.9840\n",
      "Epoch: 1/3...  Loss: 0.9459\n",
      "Epoch: 1/3...  Loss: 0.8779\n",
      "Epoch: 1/3...  Loss: 0.8424\n",
      "Epoch: 1/3...  Loss: 0.8199\n",
      "Epoch: 1/3...  Loss: 0.7741\n",
      "Epoch: 1/3...  Loss: 0.7618\n",
      "Epoch: 1/3...  Loss: 0.7895\n",
      "Epoch: 1/3...  Loss: 0.7330\n",
      "Epoch: 1/3...  Loss: 0.7205\n",
      "Epoch: 1/3...  Loss: 0.6997\n",
      "Epoch: 1/3...  Loss: 0.7016\n",
      "Epoch: 2/3...  Loss: 0.3906\n",
      "Epoch: 2/3...  Loss: 0.6846\n",
      "Epoch: 2/3...  Loss: 0.6842\n",
      "Epoch: 2/3...  Loss: 0.6420\n",
      "Epoch: 2/3...  Loss: 0.6399\n",
      "Epoch: 2/3...  Loss: 0.6613\n",
      "Epoch: 2/3...  Loss: 0.6170\n",
      "Epoch: 2/3...  Loss: 0.6223\n",
      "Epoch: 2/3...  Loss: 0.6249\n",
      "Epoch: 2/3...  Loss: 0.6240\n",
      "Epoch: 2/3...  Loss: 0.6424\n",
      "Epoch: 2/3...  Loss: 0.6026\n",
      "Epoch: 2/3...  Loss: 0.5978\n",
      "Epoch: 2/3...  Loss: 0.5957\n",
      "Epoch: 2/3...  Loss: 0.6169\n",
      "Epoch: 2/3...  Loss: 0.5934\n",
      "Epoch: 2/3...  Loss: 0.5892\n",
      "Epoch: 2/3...  Loss: 0.5430\n",
      "Epoch: 2/3...  Loss: 0.5716\n",
      "Epoch: 2/3...  Loss: 0.5664\n",
      "Epoch: 2/3...  Loss: 0.5315\n",
      "Epoch: 2/3...  Loss: 0.5319\n",
      "Epoch: 2/3...  Loss: 0.5498\n",
      "Epoch: 3/3...  Loss: 0.0598\n",
      "Epoch: 3/3...  Loss: 0.5361\n",
      "Epoch: 3/3...  Loss: 0.5191\n",
      "Epoch: 3/3...  Loss: 0.5592\n",
      "Epoch: 3/3...  Loss: 0.5278\n",
      "Epoch: 3/3...  Loss: 0.5258\n",
      "Epoch: 3/3...  Loss: 0.5343\n",
      "Epoch: 3/3...  Loss: 0.5419\n",
      "Epoch: 3/3...  Loss: 0.5485\n",
      "Epoch: 3/3...  Loss: 0.5123\n",
      "Epoch: 3/3...  Loss: 0.5167\n",
      "Epoch: 3/3...  Loss: 0.5188\n",
      "Epoch: 3/3...  Loss: 0.5192\n",
      "Epoch: 3/3...  Loss: 0.5307\n",
      "Epoch: 3/3...  Loss: 0.4993\n",
      "Epoch: 3/3...  Loss: 0.4950\n",
      "Epoch: 3/3...  Loss: 0.5022\n",
      "Epoch: 3/3...  Loss: 0.5155\n",
      "Epoch: 3/3...  Loss: 0.4984\n",
      "Epoch: 3/3...  Loss: 0.4873\n",
      "Epoch: 3/3...  Loss: 0.4829\n",
      "Epoch: 3/3...  Loss: 0.5039\n",
      "Epoch: 3/3...  Loss: 0.4654\n",
      "Epoch: 3/3...  Loss: 0.5103\n"
     ]
    }
   ],
   "source": [
    "# Train the network here\n",
    "# Number of times through the dataset\n",
    "epochs = 3\n",
    "print_every = 40\n",
    "steps = 0\n",
    "for e in range(epochs):\n",
    "    running_loss = 0\n",
    "    # iterate through each of the images/labels\n",
    "    for images, labels in iter(trainloader):\n",
    "        steps += 1\n",
    "        # Flatten MNIST images into a 784 long vector\n",
    "        images.resize_(images.size()[0], 784)\n",
    "        \n",
    "        # Clear out the gradients to re-calculate\n",
    "        optimizer.zero_grad()\n",
    "        \n",
    "        # Forward and backward passes\n",
    "        output = model.forward(images)\n",
    "        loss = criterion(output, labels)        # loss is a scaler tensor\n",
    "        loss.backward()\n",
    "        optimizer.step()\n",
    "        \n",
    "        running_loss += loss.item()    # Need to get the value out of the scaler tensor\n",
    "        \n",
    "        # Print every 40 steps so we can see the steps being taken\n",
    "        if steps % print_every == 0:\n",
    "            print(\"Epoch: {}/{}... \".format(e+1, epochs),\n",
    "                  \"Loss: {:.4f}\".format(running_loss/print_every))\n",
    "            \n",
    "            running_loss = 0"
   ]
  },
  {
   "cell_type": "code",
   "execution_count": 10,
   "metadata": {},
   "outputs": [
    {
     "output_type": "display_data",
     "data": {
      "text/plain": "<Figure size 432x648 with 2 Axes>",
      "image/png": "[encoded data removed]"
     },
     "metadata": {
      "image/png": {
       "width": 424,
       "height": 216
      },
      "needs_background": "light"
     }
    }
   ],
   "source": [
    "# Test out your network!\n",
    "\n",
    "# Get images and labels\n",
    "dataiter = iter(testloader)\n",
    "images, labels = dataiter.next()\n",
    "\n",
    "# Test image\n",
    "img = images[0]\n",
    "\n",
    "# Convert 2D image to 1D vector\n",
    "img = img.resize_(1, 784)\n",
    "\n",
    "# Turn off gradients to speed up this part\n",
    "with torch.no_grad():\n",
    "    logits = model.forward(img)\n",
    "\n",
    "# Calculate the class probabilities (softmax) for img\n",
    "ps = F.softmax(logits, dim=1)\n",
    "\n",
    "# Plot the image and probabilities\n",
    "helper.view_classify(img.resize_(1, 28, 28), ps, version='Fashion')"
   ]
  },
  {
   "cell_type": "markdown",
   "metadata": {},
   "source": [
    "Now that your network is trained, you'll want to save it to disk so you can load it later instead of training it again. Obviously, it's impractical to train a network every time you need one. In practice, you'll train it once, save the model, then reload it for further training or making predictions. In the next part, I'll show you how to save and load trained models."
   ]
  }
 ],
 "metadata": {
  "kernelspec": {
   "display_name": "Python 3",
   "language": "python",
   "name": "python3"
  },
  "language_info": {
   "codemirror_mode": {
    "name": "ipython",
    "version": 3
   },
   "file_extension": ".py",
   "mimetype": "text/x-python",
   "name": "python",
   "nbconvert_exporter": "python",
   "pygments_lexer": "ipython3",
   "version": "3.7.6-final"
  }
 },
 "nbformat": 4,
 "nbformat_minor": 2
}